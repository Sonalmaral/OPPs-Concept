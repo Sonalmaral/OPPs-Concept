{
  "nbformat": 4,
  "nbformat_minor": 0,
  "metadata": {
    "colab": {
      "provenance": []
    },
    "kernelspec": {
      "name": "python3",
      "display_name": "Python 3"
    },
    "language_info": {
      "name": "python"
    }
  },
  "cells": [
    {
      "cell_type": "markdown",
      "source": [],
      "metadata": {
        "id": "xsnXZ_H3m2hc"
      }
    },
    {
      "cell_type": "markdown",
      "source": [
        "Thory Question:\n",
        "1.  What is Object-Oriented Programming (OOP)+\n",
        ">> Object-Oriented Programming (OOP) is a programming paradigm based on the concept of \"objects\", which can contain data (attributes or properties) and methods (functions or behaviors).\n",
        "\n",
        "2. What is a class in OOP+\n",
        ">> A class in Object-Oriented Programming (OOP) is like a blueprint or template used to create objects.\n",
        "\n",
        "3. What is an object in OOP+\n",
        ">> An object is a real-world instance of a class. It is the actual entity created based on the class blueprint, and it holds data (attributes) and can perform actions (methods) defined in the class.\n",
        "\n",
        "4.  What is the difference between abstraction and encapsulation+\n",
        ">> Abstraction: Hide complexity and show only the essential features\n",
        "\n",
        ">>  Encapsulation: Hide data and protect it from being directly accessed or modified.\n",
        "5.  What are dunder methods in Python+\n",
        ">> Dunder methods (short for \"Double UNDERscore\" methods) are special built-in methods in Python that start and end with double underscores, like __init__, __str__, __len__, etc.\n",
        "\n",
        "6. Explain the concept of inheritance in OOPH\n",
        ">> Inheritance is a feature in OOP that allows a class to inherit properties and behaviors (attributes and methods) from another class.\n",
        "\n",
        "The class that is inherited from is called the Parent Class (or Base Class).\n",
        "\n",
        "The class that inherits is called the Child Class (or Derived Class)\n",
        "\n",
        "7.  What is polymorphism in OOP+\n",
        ">> Polymorphism means \"many forms\".\n",
        "\n",
        "In OOP, polymorphism allows the same method or function to behave differently depending on the object it is acting on. It's one of the core principles that makes OOP flexible and powerful.\n",
        "\n",
        "\n",
        "8. How is encapsulation achieved in Python+\n",
        ">> Encapsulation is the OOP concept of wrapping data and methods into a single unit (a class), and restricting direct access to some parts of an object. It's like protecting the internal state of an object.\n",
        "\n",
        "9. What is a constructor in Python+\n",
        ">> A constructor is a special method that automatically runs when you create (instantiate) an object from a class.\n",
        "\n",
        "10.  What are class and static methods in Python+\n",
        ">> A class method is a method that:\n",
        "\n",
        "Belongs to the class itself, not the instance\n",
        "\n",
        "Has access to the class state (but not instance state)\n",
        "\n",
        "Takes cls as its first parameter (instead of self)\n",
        "\n",
        "Is marked with the @classmethod decorator\n",
        "\n",
        "\n",
        "11. What is method overloading in Python+\n",
        ">> Method Overloading means defining multiple methods with the same name but different parameters (type, number, or both) in a class.\n",
        "\n",
        "12. What is method overriding in OOP+\n",
        ">> Method overriding means redefining a method in a child class that is already defined in its parent class — with the same name and same parameters.\n",
        "\n",
        "13.  What is a property decorator in Python+\n",
        ">> The @property decorator is used to turn a method into a “read-only” attribute — so you can access it like a variable, but it still runs code behind the scenes.\n",
        "\n",
        "14.  Why is polymorphism important in OOP+\n",
        ">> Polymorphism literally means “many forms.”\n",
        "In OOP, it allows objects of different classes to be treated as if they were objects of a common parent class, but still behave differently based on their class.\n",
        "\n",
        "\n",
        "15.  What is an abstract class in Python+\n",
        ">> An abstract class is like a template or blueprint for other classes.\n",
        "It:\n",
        "\n",
        "Cannot be instantiated directly (you can't create objects of it)\n",
        "\n",
        "Can contain abstract methods (methods that have no body)\n",
        "\n",
        "Is used to enforce a structure in the child classes\n",
        "\n",
        "16.  What are the advantages of OOP+\n",
        ">> reusability,encapsulation, polymorphism\n",
        "\n",
        "17.  What is the difference between a class variable and an instance variable+\n",
        ">> Class variable belonging to class variable and instance variable is individual object (instance)\n",
        "\n",
        "18.  What is multiple inheritance in Python+\n",
        ">> Multiple inheritance means that a class can inherit from more than one parent class.\n",
        "\n",
        "So, a child class can access methods and attributes from multiple parents.\n",
        "\n",
        "19.  Explain the purpose of ‘’__str__’ and ‘__repr__’ ‘ methods in Python\n",
        ">> __str__()\tHuman-readable (nice, clean output)\tUsers / Print output\n",
        "__repr__()\tDeveloper-readable (debugging purpose)\tDevelopers / Debugging\n",
        "\n",
        "20.  What is the significance of the ‘super()’ function in Python+\n",
        ">> super() is a built-in function that gives you access to methods from a parent (super) class — without naming it explicitly.\n",
        "\n",
        "21. What is the significance of the __del__ method in Python+\n",
        ">> __del__() is a special method (a.k.a. dunder method) called when an object is about to be destroyed — typically when there are no more references to it.\n",
        "\n",
        "It’s like a destructor in other languages (like C++).\n",
        "\n",
        "22. What is the difference between @staticmethod and @classmethod in Python+\n",
        ">>  @staticmethod: Class only (not instance or class itself)\t@classmethod:Class (not instance)\n",
        "23.  How does polymorphism work in Python with inheritance+\n",
        ">> Polymorphism = \"many forms\"\n",
        "\n",
        "It allows different classes to be used through a common interface, even if they behave differently.\n",
        "\n",
        "In Python, polymorphism often works through inheritance and method overriding.\n",
        "\n",
        "24.  What is method chaining in Python OOP+\n",
        ">> Method chaining is a technique where you call multiple methods on the same object in a single line\n",
        "\n",
        "25.  What is the purpose of the __call__ method in Python?\n",
        ">> The __call__() method is a special method that allows an instance of a class to be called like a function.\n"
      ],
      "metadata": {
        "id": "igQgGa5Bm4da"
      }
    },
    {
      "cell_type": "markdown",
      "source": [
        "Practical Questions"
      ],
      "metadata": {
        "id": "WibYgXLlmxF2"
      }
    },
    {
      "cell_type": "code",
      "execution_count": 1,
      "metadata": {
        "colab": {
          "base_uri": "https://localhost:8080/"
        },
        "id": "GIzRI5Kel38N",
        "outputId": "34a4e8ce-7ffa-4f8b-f79b-faea78ab815d"
      },
      "outputs": [
        {
          "output_type": "stream",
          "name": "stdout",
          "text": [
            "Generic animal sound\n",
            "Bark!\n"
          ]
        }
      ],
      "source": [
        "# Q1: Create a parent class Animal with a method speak() that prints a generic message. Create a child class Dog\n",
        "# that overrides the speak() method to print \"Bark!\".\n",
        "\n",
        "class Animal:\n",
        "  def speak(self):\n",
        "    print(\"Generic animal sound\")\n",
        "\n",
        "class Dog(Animal):\n",
        "  def speak(self):\n",
        "    print(\"Bark!\")\n",
        "\n",
        "\n",
        "animal = Animal()\n",
        "animal.speak()\n",
        "\n",
        "dog = Dog()\n",
        "dog.speak()\n"
      ]
    },
    {
      "cell_type": "code",
      "source": [
        "# Q2: Write a program to create an abstract class Shape with a method area(). Derive classes Circle and Rectangle\n",
        "# from it and implement the area() method in both.\n",
        "\n",
        "from abc import ABC, abstractmethod\n",
        "import math\n",
        "\n",
        "class Shape(ABC):\n",
        "    @abstractmethod\n",
        "    def area(self):\n",
        "        pass\n",
        "\n",
        "class Circle(Shape):\n",
        "    def __init__(self, radius):\n",
        "        self.radius = radius\n",
        "\n",
        "    def area(self):\n",
        "        return math.pi * self.radius**2\n",
        "\n",
        "class Rectangle(Shape):\n",
        "    def __init__(self, width, height):\n",
        "        self.width = width\n",
        "        self.height = height\n",
        "\n",
        "    def area(self):\n",
        "        return self.width * self.height\n",
        "\n",
        "circle = Circle(5)\n",
        "print(\"Circle area:\", circle.area())\n",
        "\n",
        "rectangle = Rectangle(4, 6)\n",
        "print(\"Rectangle area:\", rectangle.area())"
      ],
      "metadata": {
        "colab": {
          "base_uri": "https://localhost:8080/"
        },
        "id": "rTwxF_yll9sl",
        "outputId": "cc577227-b55f-44b1-b4a8-4cc45914b4a5"
      },
      "execution_count": 2,
      "outputs": [
        {
          "output_type": "stream",
          "name": "stdout",
          "text": [
            "Circle area: 78.53981633974483\n",
            "Rectangle area: 24\n"
          ]
        }
      ]
    },
    {
      "cell_type": "code",
      "source": [
        "# Q3:  Implement a multi-level inheritance scenario where a class Vehicle has an attribute type. Derive a class Car\n",
        "# and further derive a class ElectricCar that adds a battery attribute.\n",
        "\n",
        "class Vehicle:\n",
        "    def __init__(self, type):\n",
        "        self.type = type\n",
        "\n",
        "class Car(Vehicle):\n",
        "    def __init__(self, type, model):\n",
        "        super().__init__(type)\n",
        "        self.model = model\n",
        "\n",
        "class ElectricCar(Car):\n",
        "    def __init__(self, type, model, battery):\n",
        "        super().__init__(type, model)\n",
        "        self.battery = battery\n",
        "\n",
        "\n",
        "my_electric_car = ElectricCar(\"Electric\", \"Tesla Model S\", \"100kWh\")\n",
        "print(f\"Vehicle Type: {my_electric_car.type}\")\n",
        "print(f\"Car Model: {my_electric_car.model}\")\n",
        "print(f\"Battery Capacity: {my_electric_car.battery}\")\n"
      ],
      "metadata": {
        "colab": {
          "base_uri": "https://localhost:8080/"
        },
        "id": "y1nSOFO-mAul",
        "outputId": "948176ef-d090-4e3b-b63a-b95c5d6abe69"
      },
      "execution_count": 3,
      "outputs": [
        {
          "output_type": "stream",
          "name": "stdout",
          "text": [
            "Vehicle Type: Electric\n",
            "Car Model: Tesla Model S\n",
            "Battery Capacity: 100kWh\n"
          ]
        }
      ]
    },
    {
      "cell_type": "code",
      "source": [
        "# Q4: Demonstrate polymorphism by creating a base class Bird with a method fly(). Create two derived classes\n",
        "# Sparrow and Penguin that override the fly() method.\n",
        "\n",
        "class Bird:\n",
        "    def fly(self):\n",
        "        print(\"Generic bird flying\")\n",
        "\n",
        "class Sparrow(Bird):\n",
        "    def fly(self):\n",
        "        print(\"Sparrow is flying high\")\n",
        "\n",
        "class Penguin(Bird):\n",
        "    def fly(self):\n",
        "        print(\"Penguin cannot fly\")\n",
        "\n",
        "\n",
        "bird = Bird()\n",
        "sparrow = Sparrow()\n",
        "penguin = Penguin()\n",
        "\n",
        "\n",
        "bird.fly()\n",
        "sparrow.fly()\n",
        "penguin.fly()\n"
      ],
      "metadata": {
        "colab": {
          "base_uri": "https://localhost:8080/"
        },
        "id": "PhHQaqqkmEjX",
        "outputId": "4776366d-143a-413c-8c1e-b4aad4e3529c"
      },
      "execution_count": 4,
      "outputs": [
        {
          "output_type": "stream",
          "name": "stdout",
          "text": [
            "Generic bird flying\n",
            "Sparrow is flying high\n",
            "Penguin cannot fly\n"
          ]
        }
      ]
    },
    {
      "cell_type": "code",
      "source": [
        "# Q5: Write a program to demonstrate encapsulation by creating a class BankAccount with private attributes\n",
        "# balance and methods to deposit, withdraw, and check balance.\n",
        "\n",
        "class BankAccount:\n",
        "    def __init__(self, initial_balance=0):\n",
        "        self.__balance = initial_balance  # Private attribute\n",
        "\n",
        "    def deposit(self, amount):\n",
        "        if amount > 0:\n",
        "            self.__balance += amount\n",
        "            print(\"Deposit successful. New balance:\", self.__balance)\n",
        "        else:\n",
        "            print(\"Invalid deposit amount.\")\n",
        "\n",
        "    def withdraw(self, amount):\n",
        "        if 0 < amount <= self.__balance:\n",
        "            self.__balance -= amount\n",
        "            print(\"Withdrawal successful. New balance:\", self.__balance)\n",
        "        else:\n",
        "            print(\"Insufficient funds or invalid withdrawal amount.\")\n",
        "\n",
        "    def check_balance(self):\n",
        "        print(\"Current balance:\", self.__balance)\n",
        "\n",
        "\n",
        "account = BankAccount(1000)\n",
        "account.deposit(500)\n",
        "account.withdraw(200)\n",
        "account.check_balance()\n",
        "account.withdraw(1500)\n"
      ],
      "metadata": {
        "colab": {
          "base_uri": "https://localhost:8080/"
        },
        "id": "OkUqgqpEmHkO",
        "outputId": "c4f765f2-783b-4744-c009-8895859146fb"
      },
      "execution_count": 5,
      "outputs": [
        {
          "output_type": "stream",
          "name": "stdout",
          "text": [
            "Deposit successful. New balance: 1500\n",
            "Withdrawal successful. New balance: 1300\n",
            "Current balance: 1300\n",
            "Insufficient funds or invalid withdrawal amount.\n"
          ]
        }
      ]
    },
    {
      "cell_type": "code",
      "source": [
        "# Q6: . Demonstrate runtime polymorphism using a method play() in a base class Instrument. Derive classes Guitar\n",
        "# and Piano that implement their own version of play().\n",
        "\n",
        "from abc import ABC, abstractmethod\n",
        "\n",
        "class Instrument(ABC):\n",
        "    @abstractmethod\n",
        "    def play(self):\n",
        "        pass\n",
        "\n",
        "class Guitar(Instrument):\n",
        "    def play(self):\n",
        "        print(\"Playing the guitar\")\n",
        "\n",
        "class Piano(Instrument):\n",
        "    def play(self):\n",
        "        print(\"Playing the piano\")\n",
        "\n",
        "\n",
        "guitar = Guitar()\n",
        "piano = Piano()"
      ],
      "metadata": {
        "id": "9Ydwwbi-mKXK"
      },
      "execution_count": 6,
      "outputs": []
    },
    {
      "cell_type": "code",
      "source": [
        "# Q7: Create a class MathOperations with a class method add_numbers() to add two numbers and a static\n",
        "# method subtract_numbers() to subtract two numbers.\n",
        "\n",
        "class MathOperations:\n",
        "    @classmethod\n",
        "    def add_numbers(cls, x, y):\n",
        "        return x + y\n",
        "\n",
        "    @staticmethod\n",
        "    def subtract_numbers(x, y):\n",
        "        return x - y"
      ],
      "metadata": {
        "id": "cucwOvI4mP94"
      },
      "execution_count": 7,
      "outputs": []
    },
    {
      "cell_type": "code",
      "source": [
        "# Q8:  Implement a class Person with a class method to count the total number of persons created.\n",
        "\n",
        "class Person:\n",
        "    count = 0\n",
        "\n",
        "    def __init__(self, name):\n",
        "        self.name = name\n",
        "        Person.count += 1\n",
        "\n",
        "    @classmethod\n",
        "    def get_total_persons(cls):\n",
        "        return cls.count\n",
        "\n",
        "\n",
        "person1 = Person(\"Alice\")\n",
        "person2 = Person(\"Bob\")\n",
        "person3 = Person(\"Charlie\")\n",
        "\n",
        "print(f\"Total persons created: {Person.get_total_persons()}\")\n"
      ],
      "metadata": {
        "colab": {
          "base_uri": "https://localhost:8080/"
        },
        "id": "TOCzEjyrmSyH",
        "outputId": "1952e5eb-d5b1-49a6-f750-f83996510eaf"
      },
      "execution_count": 8,
      "outputs": [
        {
          "output_type": "stream",
          "name": "stdout",
          "text": [
            "Total persons created: 3\n"
          ]
        }
      ]
    },
    {
      "cell_type": "code",
      "source": [
        "# Q9: Write a class Fraction with attributes numerator and denominator. Override the str method to display the\n",
        "# fraction as \"numerator/denominator\".\n",
        "\n",
        "class Fraction:\n",
        "    def __init__(self, numerator, denominator):\n",
        "        self.numerator = numerator\n",
        "        self.denominator = denominator\n",
        "\n",
        "    def __str__(self):\n",
        "        return f\"{self.numerator}/{self.denominator}\"\n"
      ],
      "metadata": {
        "id": "Br1gKiJKmVA_"
      },
      "execution_count": 9,
      "outputs": []
    },
    {
      "cell_type": "code",
      "source": [
        "# Q10: Demonstrate operator overloading by creating a class Vector and overriding the add method to add two\n",
        "# vectors.\n",
        "\n",
        "class Vector:\n",
        "    def __init__(self, x, y):\n",
        "        self.x = x\n",
        "        self.y = y\n",
        "\n",
        "    def __add__(self, other):\n",
        "        return Vector(self.x + other.x, self.y + other.y)\n",
        "\n",
        "    def __str__(self):\n",
        "        return f\"({self.x}, {self.y})\"\n",
        "\n",
        "v1 = Vector(2, 3)\n",
        "v2 = Vector(4, 5)\n",
        "v3 = v1 + v2\n",
        "print(v3)\n"
      ],
      "metadata": {
        "colab": {
          "base_uri": "https://localhost:8080/"
        },
        "id": "lz9nIWeumXR9",
        "outputId": "6a279dc1-4b3a-4576-edd5-3bab026c5ba7"
      },
      "execution_count": 10,
      "outputs": [
        {
          "output_type": "stream",
          "name": "stdout",
          "text": [
            "(6, 8)\n"
          ]
        }
      ]
    },
    {
      "cell_type": "code",
      "source": [
        "# Q11:  Create a class Person with attributes name and age. Add a method greet() that prints \"Hello, my name is\n",
        "# {name} and I am {age} years old.\"\n",
        "\n",
        "class Person:\n",
        "    def __init__(self, name, age):\n",
        "        self.name = name\n",
        "        self.age = age\n",
        "\n",
        "    def greet(self):\n",
        "        print(f\"Hello, my name is {self.name} and I am {self.age} years old.\")\n"
      ],
      "metadata": {
        "id": "CRMJK7UcmYem"
      },
      "execution_count": 11,
      "outputs": []
    },
    {
      "cell_type": "code",
      "source": [
        "# Q12: . Implement a class Student with attributes name and grades. Create a method average_grade() to compute\n",
        "# the average of the grades.\n",
        "\n",
        "class Student:\n",
        "    def __init__(self, name, grades):\n",
        "        self.name = name\n",
        "        self.grades = grades\n",
        "\n",
        "    def average_grade(self):\n",
        "        if not self.grades:\n",
        "            return 0\n",
        "        return sum(self.grades) / len(self.grades)"
      ],
      "metadata": {
        "id": "BA8qClkdmdN0"
      },
      "execution_count": 12,
      "outputs": []
    },
    {
      "cell_type": "code",
      "source": [
        "# Q13: Create a class Rectangle with methods set_dimensions() to set the dimensions and area() to calculate the\n",
        "# area.\n",
        "\n",
        "class Rectangle:\n",
        "    def __init__(self):\n",
        "        self.width = 0\n",
        "        self.height = 0\n",
        "\n",
        "    def set_dimensions(self, width, height):\n",
        "        self.width = width\n",
        "        self.height = height\n",
        "\n",
        "    def area(self):\n",
        "        return self.width * self.height\n"
      ],
      "metadata": {
        "id": "AA3MJnUemeUc"
      },
      "execution_count": 13,
      "outputs": []
    },
    {
      "cell_type": "code",
      "source": [
        "# Q14: Create a class Employee with a method calculate_salary() that computes the salary based on hours worked\n",
        "# and hourly rate. Create a derived class Manager that adds a bonus to the salary\n",
        "\n",
        "class Employee:\n",
        "    def __init__(self, hours_worked, hourly_rate):\n",
        "        self.hours_worked = hours_worked\n",
        "        self.hourly_rate = hourly_rate\n",
        "\n",
        "    def calculate_salary(self):\n",
        "        return self.hours_worked * self.hourly_rate\n",
        "\n",
        "class Manager(Employee):\n",
        "    def __init__(self, hours_worked, hourly_rate, bonus):\n",
        "        super().__init__(hours_worked, hourly_rate)\n",
        "        self.bonus = bonus\n",
        "\n",
        "    def calculate_salary(self):\n",
        "        return super().calculate_salary() + self.bonus\n"
      ],
      "metadata": {
        "id": "SE13qDU0mjPr"
      },
      "execution_count": 14,
      "outputs": []
    },
    {
      "cell_type": "code",
      "source": [
        "# Q15: Create a class Product with attributes name, price, and quantity. Implement a method total_price() that\n",
        "# calculates the total price of the product.\n",
        "\n",
        "class Product:\n",
        "    def __init__(self, name, price, quantity):\n",
        "        self.name = name\n",
        "        self.price = price\n",
        "        self.quantity = quantity\n",
        "\n",
        "    def total_price(self):\n",
        "        return self.price * self.quantity"
      ],
      "metadata": {
        "id": "PZFSkD7FmmCB"
      },
      "execution_count": 15,
      "outputs": []
    },
    {
      "cell_type": "code",
      "source": [
        "# Q16:  Create a class Animal with an abstract method sound(). Create two derived classes Cow and Sheep that\n",
        "# implement the sound() method.\n",
        "\n",
        "from abc import ABC, abstractmethod\n",
        "\n",
        "class Animal(ABC):\n",
        "    @abstractmethod\n",
        "    def sound(self):\n",
        "        pass\n",
        "\n",
        "class Cow(Animal):\n",
        "    def sound(self):\n",
        "        print(\"Moo\")\n",
        "\n",
        "class Sheep(Animal):\n",
        "    def sound(self):\n",
        "        print(\"Baa\")"
      ],
      "metadata": {
        "id": "cLwaxTvLmoPA"
      },
      "execution_count": 16,
      "outputs": []
    },
    {
      "cell_type": "code",
      "source": [
        "# Q17:  Create a class Book with attributes title, author, and year_published. Add a method get_book_info() that\n",
        "# returns a formatted string with the book's details.\n",
        "\n",
        "class Book:\n",
        "    def __init__(self, title, author, year_published):\n",
        "        self.title = title\n",
        "        self.author = author\n",
        "        self.year_published = year_published\n",
        "\n",
        "    def get_book_info(self):\n",
        "        return f\"Title: {self.title}, Author: {self.author}, Year Published: {self.year_published}\"\n"
      ],
      "metadata": {
        "id": "mdCwGhddmpUn"
      },
      "execution_count": 17,
      "outputs": []
    },
    {
      "cell_type": "code",
      "source": [
        "# Q18:  Create a class House with attributes address and price. Create a derived class Mansion that adds an\n",
        "# attribute number_of_rooms\n",
        "\n",
        "class House:\n",
        "    def __init__(self, address, price):\n",
        "        self.address = address\n",
        "        self.price = price\n",
        "\n",
        "class Mansion(House):\n",
        "    def __init__(self, address, price, number_of_rooms):\n",
        "        super().__init__(address, price)\n",
        "        self.number_of_rooms = number_of_rooms"
      ],
      "metadata": {
        "id": "YgQTDEW0mrXo"
      },
      "execution_count": 18,
      "outputs": []
    }
  ]
}